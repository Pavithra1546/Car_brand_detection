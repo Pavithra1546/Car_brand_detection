{
 "cells": [
  {
   "cell_type": "code",
   "execution_count": null,
   "id": "a60ec320",
   "metadata": {},
   "outputs": [
    {
     "name": "stdout",
     "output_type": "stream",
     "text": [
      "1/1 [==============================] - 26s 26s/step\n"
     ]
    }
   ],
   "source": [
    "import cv2\n",
    "import tensorflow as tf\n",
    "\n",
    "# Load the saved model\n",
    "model = tf.keras.models.load_model(\"car_brand.model\")\n",
    "\n",
    "# Load the new image\n",
    "image = cv2.imread(\"lam1.jpg\")\n",
    "\n",
    "# Resize the image\n",
    "resized_image = cv2.resize(image, (224, 224))\n",
    "\n",
    "# Normalize the pixel values\n",
    "normalized_image = resized_image / 255.0\n",
    "\n",
    "# Add a batch dimension\n",
    "batched_image = tf.expand_dims(normalized_image, axis=0)\n",
    "\n",
    "# Get the predictions\n",
    "predictions = model.predict(batched_image)\n",
    "\n",
    "# Get the predicted class label\n",
    "label = \"Audi\" if predictions[0][0] > predictions[0][1] else \"Lamborghini\"\n",
    "\n",
    "# Get the color for the label\n",
    "color = (0, 255, 0) if label == \"Audi\" else (0, 0, 255)\n",
    "\n",
    "# Draw the label and bounding box on the image\n",
    "cv2.putText(image, label, (10, 30), cv2.FONT_HERSHEY_SIMPLEX, 1.0, color, 2)\n",
    "cv2.imshow(\"Image\", image)\n",
    "cv2.waitKey(0)\n",
    "cv2.destroyAllWindows()\n"
   ]
  },
  {
   "cell_type": "code",
   "execution_count": null,
   "id": "fef9dea7",
   "metadata": {},
   "outputs": [],
   "source": []
  }
 ],
 "metadata": {
  "kernelspec": {
   "display_name": "Python 3 (ipykernel)",
   "language": "python",
   "name": "python3"
  },
  "language_info": {
   "codemirror_mode": {
    "name": "ipython",
    "version": 3
   },
   "file_extension": ".py",
   "mimetype": "text/x-python",
   "name": "python",
   "nbconvert_exporter": "python",
   "pygments_lexer": "ipython3",
   "version": "3.8.16"
  }
 },
 "nbformat": 4,
 "nbformat_minor": 5
}
